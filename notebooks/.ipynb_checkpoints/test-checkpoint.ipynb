{
 "cells": [
  {
   "cell_type": "code",
   "execution_count": 10,
   "metadata": {},
   "outputs": [],
   "source": [
    "import * as E from \"fp-ts/Either\";\n",
    "import * as A from \"fp-ts/Array\";\n",
    "import * as F from \"fp-ts/function\";\n",
    "\n",
    "import * as P from \"./lib/promise\";\n",
    "import { request1, request2, request3, request4, request5, request6 } from './mocks/requests'\n"
   ]
  },
  {
   "cell_type": "code",
   "execution_count": 11,
   "metadata": {},
   "outputs": [
    {
     "name": "stdout",
     "output_type": "stream",
     "text": [
      "request1 arg: 0\n",
      "request2 arg: 1\n",
      "request3 arg: 2\n",
      "request4 arg: 3\n",
      "request5 arg: 4\n",
      "request6 arg: 5\n",
      "sequential: 6\n"
     ]
    }
   ],
   "source": [
    "const sequential = request1(0)\n",
    "    .then(request2)\n",
    "    .then(request3)\n",
    "    .then(request4)\n",
    "    .then(request5)\n",
    "    .then(request6);\n",
    "\n",
    "console.log(\"sequential:\", await sequential);"
   ]
  }
 ],
 "metadata": {
  "kernelspec": {
   "display_name": "TypeScript",
   "language": "typescript",
   "name": "tslab"
  },
  "language_info": {
   "codemirror_mode": {
    "mode": "typescript",
    "name": "javascript",
    "typescript": true
   },
   "file_extension": ".ts",
   "mimetype": "text/typescript",
   "name": "typescript",
   "version": "3.7.2"
  }
 },
 "nbformat": 4,
 "nbformat_minor": 2
}
