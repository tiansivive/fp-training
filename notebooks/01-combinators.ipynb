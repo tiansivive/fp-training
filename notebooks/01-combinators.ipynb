{
 "cells": [
  {
   "cell_type": "markdown",
   "metadata": {},
   "source": [
    "## Common patterns\n",
    "\n",
    "#### What's this about Combinators? Sounds like a farming\n",
    "\n",
    "Think of it as just another name for utility functions.  \n",
    "Each data type, depending on its semantics, will have some version of these functions. Some will be merely convenience functions for that specific datatype, others will be part of more general patterns. We won't discuss the former since they're just specific constructs that can be looked up in `fp-ts` documentation.  \n",
    "\n",
    "But the general patters are worth discussing.   \n",
    "We've already talked about `map`, that's one combinator. And we've seen how `map` kinda always does the same thing, but with slightly different semantics depending on the underlying data type it's operating on.\n",
    "\n"
   ]
  },
  {
   "cell_type": "markdown",
   "metadata": {},
   "source": [
    "### Chains? What's next, sticks and stones?\n",
    "\n",
    "The easiest way to understand `chain` is to look at `Promise.then`. We've mentioned how `.then` offers the same functionality as `map` and also more. It's the \"more\" part we're interested in:\n",
    "\n"
   ]
  },
  {
   "cell_type": "code",
   "execution_count": 163,
   "metadata": {},
   "outputs": [],
   "source": [
    "type PromiseChain = <A, B>(promise: Promise<A>, f: (a: A) => Promise<B>) => Promise<B>\n",
    "\n",
    "const chain: PromiseChain = (promise, f) => promise.then(f)"
   ]
  },
  {
   "cell_type": "markdown",
   "metadata": {},
   "source": [
    "So we can see it's just passing in a handler to `.then`, and that the handler generates another promise. In essences, we're `chaining` async operations in sequence!"
   ]
  },
  {
   "cell_type": "code",
   "execution_count": 164,
   "metadata": {},
   "outputs": [
    {
     "name": "stdout",
     "output_type": "stream",
     "text": [
      "request1 arg: \u001b[90mundefined\u001b[39m\n",
      "request1 arg: \u001b[90mundefined\u001b[39m\n",
      "request2 arg: \u001b[33m1\u001b[39m\n",
      "request2 arg: \u001b[33m1\u001b[39m\n",
      "then: \u001b[33m2\u001b[39m\n",
      "chain: \u001b[33m2\u001b[39m\n"
     ]
    }
   ],
   "source": [
    "import * as F from 'fp-ts/function'\n",
    "import * as P from './lib/promise'\n",
    "import { request1, request2 } from './mocks/requests'\n",
    "\n",
    "\n",
    "const responseThen = Promise.resolve()\n",
    "    .then(request1)\n",
    "    .then(request2)\n",
    "const responseChain = F.pipe(\n",
    "    Promise.resolve(),\n",
    "    P.chain(request1),\n",
    "    P.chain(request2)\n",
    ")\n",
    "\n",
    "console.log(\"then:\", await responseThen)\n",
    "console.log(\"chain:\", await responseChain)\n",
    "\n"
   ]
  },
  {
   "cell_type": "markdown",
   "metadata": {},
   "source": [
    "Let's just analyse this a bit deeper, forget about `Promise`s for second, and let's think about this in a more general way:"
   ]
  },
  {
   "cell_type": "code",
   "execution_count": 165,
   "metadata": {},
   "outputs": [],
   "source": [
    "type T<A> = { /* Some data type, like Promise */ }\n",
    "\n",
    "type Chain = <A, B>(f: (a: A) => T<B>) => (ma: T<A>) => T<B>"
   ]
  },
  {
   "cell_type": "markdown",
   "metadata": {},
   "source": [
    "We're _applying a function_ that works on the \"inner\" value and returns another \"wrapped/enhanced\" value which is the result of that function.\n",
    "So for `Promise`s, `chain` allows us to make several sync calls in sequence, with each subsequent call having access to the previous result. Just like in a normal `Promise.then` _chain_!\n",
    "\n",
    "But `chain` also works for other data types, so what happens with `Option`?"
   ]
  },
  {
   "cell_type": "code",
   "execution_count": 166,
   "metadata": {},
   "outputs": [
    {
     "name": "stdout",
     "output_type": "stream",
     "text": [
      "one { _tag: \u001b[32m'Some'\u001b[39m, value: \u001b[33m2\u001b[39m }\n",
      "two { _tag: \u001b[32m'Some'\u001b[39m, value: \u001b[33m30\u001b[39m }\n",
      "three { _tag: \u001b[32m'None'\u001b[39m }\n"
     ]
    }
   ],
   "source": [
    "import * as O from 'fp-ts/Option'\n",
    "\n",
    "type OptionChain = <A, B>(f: (a: A) => O.Option<B>) => (a: O.Option<A>) => O.Option<B>\n",
    "\n",
    "const optChain: OptionChain = f => ma => O.isNone(ma) ? O.none : f(ma.value) \n",
    "\n",
    "const check = optChain((n: number) => O.some(n > 10 ? n + 10: n + 1))\n",
    "\n",
    "const one = F.pipe(O.some(1), check)\n",
    "const two = F.pipe(O.some(20), check)\n",
    "const three = F.pipe(O.none, check)\n",
    "\n",
    "console.log(\"one\", one)\n",
    "console.log(\"two\", two)\n",
    "console.log(\"three\", three)"
   ]
  },
  {
   "cell_type": "markdown",
   "metadata": {},
   "source": [
    "So we see that if we have a `None`, the the result of `chain` will still be none, otherwise it's whatever is returned from the provided function. This makes sense, if `Option` represents nullable values, `chain`ing some operation on `null` or `undefined` would result in an error unless we propagate the `undefined` value.  \n",
    "Interestingly, there's a parallel here with `Promise`s. If at any point in a `.then` chain we receive a `Promise.reject`, then the remaining `.then` calls do not run as they no longer make any sense."
   ]
  },
  {
   "cell_type": "markdown",
   "metadata": {},
   "source": [
    "> **Tip**\n",
    ">\n",
    "> This is *happy* *path* programming! We're let the data type specify the semantics for what happens when something goes \"wrong\", and then our functions are free to only focus on the case where stuff goes \"right\". \n",
    "> For `Option`, the implementation of `chain` takes care of the `None` case, by passing `None` to every subsequent call. So our functions never have to worry about checking that case.\n",
    "> For `Promise`, it's the same thing, we never handle the errors in the  `.then/chain` handlers, we need `.catch` for that. "
   ]
  },
  {
   "cell_type": "markdown",
   "metadata": {},
   "source": [
    "## There's a new Filter in town\n",
    "\n",
    "If you've used `Array`s you've used `.filter` (and `map`!). Since `map` can be applied to `Option` and `Promise`, can we do the same with `filter`?\n",
    "\n",
    "Well, yes of course! we just need to define what it means to `filter` an `Option/Promise`.\n",
    "\n",
    "Since we use `Option` to represent optional values, it stands to reason that if `Some` value fails some filter function (ie, the callback passed to `filter` function returns `false`), then that `Some` will now represent a `None` case. If it passes the filter, then we just keep the previous value.   \n"
   ]
  },
  {
   "cell_type": "code",
   "execution_count": 167,
   "metadata": {},
   "outputs": [],
   "source": [
    "type FilterOption = <A>(f: (a: A) => boolean) => (ma: O.Option<A>) => O.Option<A>\n",
    "\n",
    "\n",
    "let optFilter: FilterOption = f => ma => {\n",
    "    //@ts-expect-error\n",
    "    if (f(ma.value)) return ma  \n",
    "    return O.none\n",
    "}"
   ]
  },
  {
   "cell_type": "markdown",
   "metadata": {},
   "source": [
    "The `@ts-expect-error` is there because we can't really access `.value` without checking if it's a `Some`. So why haven't we done that? \n",
    "Well, if it's a `None` from the start, there's no \"inner\" value to filter, so we just keep it as `None`. And we already have a function that deals with checking the `None` case, it's `chain`!  \n",
    "If we try to follow the happy path principle, we don't want to pollute the `filter` function implementation which logic that belong to `chain`, so we can instead rewrite `filter` in terms of `chain` \n",
    "\n"
   ]
  },
  {
   "cell_type": "code",
   "execution_count": 168,
   "metadata": {},
   "outputs": [
    {
     "name": "stdout",
     "output_type": "stream",
     "text": [
      "\u001b[36m[Function (anonymous)]\u001b[39m\n"
     ]
    }
   ],
   "source": [
    "optFilter = <A>(f: (a: A) => boolean) => (ma: O.Option<A>) => O.chain((a: A) => f(a) ? O.some(a) : O.none)(ma)"
   ]
  },
  {
   "cell_type": "markdown",
   "metadata": {},
   "source": [
    "> **Tip**\n",
    ">\n",
    "> Notice how the param `ma` is merely being passed along?  \n",
    "> Because the functions are curried, when we pass a function `f` to `optFilter` the return type will be a function that takes an `ma: Option<A>` as a param, which is the exact same as what is returned from `O.chain(f)`. \n",
    "> That means that the function returned from `O.chain` is all we need as the body of `optFilter`, and we can eliminate the extra redundant arrow function and make `ma` implicit.\n",
    ">\n",
    "> This technique is called *eta reduce*"
   ]
  },
  {
   "cell_type": "code",
   "execution_count": 169,
   "metadata": {},
   "outputs": [
    {
     "name": "stdout",
     "output_type": "stream",
     "text": [
      "\u001b[36m[Function (anonymous)]\u001b[39m\n"
     ]
    }
   ],
   "source": [
    "//same as\n",
    "optFilter = f => O.chain(a => f(a) ? O.some(a) : O.none)"
   ]
  },
  {
   "cell_type": "markdown",
   "metadata": {},
   "source": [
    "So now we can clearly see that `filtering` is merely a `chain` operation with a specific check `f` provided by the caller. \n",
    "\n",
    "We've managed to separate concerns, `chain` deals with chaining operations and `filter` filters stuff! Great!\n",
    "\n",
    "But why go through all this trouble? \n",
    "We've been trying to see how these combinators apply to different data types, and now we know that `filter` works for `Array` and `Option`. We also know that we can implement `filter` in terms of `chain` and that chain also works for `Promise`. So it stands to reason we can `filter` `Promise`s *the exact same way!*"
   ]
  },
  {
   "cell_type": "code",
   "execution_count": 170,
   "metadata": {},
   "outputs": [],
   "source": [
    "type FilterPromise = <A>(f: (a: A) => boolean) => (ma: Promise<A>) => Promise<A>\n",
    "\n",
    "const promiseFilter: FilterPromise = f => P.chain(a => f(a) ? Promise.resolve(a) : Promise.reject())"
   ]
  },
  {
   "cell_type": "markdown",
   "metadata": {},
   "source": [
    "And voilá!\n",
    "Same thing, same pattern, almost same implementation. You may have noticed this pattern by now, that the combinator implementation for different data types is *almost*, *but not quite* the same.\n",
    "\n",
    "In this case, notice how in both data types we have a boolean check and we \"construct\" a new data type for the truthy and falsy cases. If only we had generalized implementation of these \"constructors\" we could completely abstract `filter` away. IF ONLY...\n",
    "\n",
    "You might have guessed that's not so hard! we totally could, but patience young Padawan! everything in it's own time, we'll get there.  \n",
    "\n",
    "For now let's take a look at `filter` in action\n"
   ]
  },
  {
   "cell_type": "code",
   "execution_count": 171,
   "metadata": {},
   "outputs": [
    {
     "name": "stdout",
     "output_type": "stream",
     "text": [
      "{ _tag: \u001b[32m'Some'\u001b[39m, value: \u001b[33m1\u001b[39m }\n",
      "{ _tag: \u001b[32m'None'\u001b[39m }\n",
      "\u001b[33m1\u001b[39m\n",
      "caught rejection\n"
     ]
    }
   ],
   "source": [
    "const positive = O.some(1)\n",
    "const negative = O.some(-1)\n",
    "\n",
    "const positivePromise = Promise.resolve(1)\n",
    "const negativePromise = Promise.resolve(-1)\n",
    "\n",
    "const isPositive = (x: number) => x > 0\n",
    "\n",
    "console.log(F.pipe(positive, O.filter(isPositive)))\n",
    "console.log(F.pipe(negative, O.filter(isPositive)))\n",
    "console.log(await F.pipe(positivePromise, P.filter(isPositive)))\n",
    "// catching just so we can log it\n",
    "console.log(await F.pipe(negativePromise, P.filter(isPositive)).catch(() => \"caught rejection\"))\n"
   ]
  },
  {
   "cell_type": "markdown",
   "metadata": {},
   "source": [
    "## Behold! A `Fold`, the old gold! \n",
    "\n",
    "So far we've seen way to interact and operate with the \"inner\" value of these data types. What about when we want to \"extract\" it. In other others, get rid of the \"container\". \n",
    "\n",
    "Before we do that, tough. Let's just address some terminology\n",
    "\n",
    "> We call the \"inner\" values *monadic*. That's a scary world, but we'll soon explain it as well. For now, just remember, *monadic* means the inner value of the container data type\n",
    "\n",
    "Now onto `fold`. Continuing with the `Array` methods, we've seen `map` and `filter`. You might have guessed, the next one in line is `reduce`! \n",
    "\n",
    "> *Aside*: You maybe have wondered about `chain`? Is there a common method for `Array` that is a parallel of `chain`? Well, yes! See if you can find it! We'll talk more about it later.\n",
    "\n",
    "`reducing` is a `fold` operation! What does `reduce` do? it takes an `Array` and turns it into a single value. In other words, it gets rid of the `Array` \"container\". \n",
    "\n",
    "Let's look at an example:"
   ]
  },
  {
   "cell_type": "code",
   "execution_count": 172,
   "metadata": {},
   "outputs": [
    {
     "name": "stdout",
     "output_type": "stream",
     "text": [
      "\u001b[33m5\u001b[39m\n"
     ]
    }
   ],
   "source": [
    "const sum = (arr: Array<number>) => arr.reduce((total, n) => n + total, 0)\n",
    "\n",
    "sum([1,1,1,1,1])"
   ]
  },
  {
   "cell_type": "markdown",
   "metadata": {},
   "source": [
    "`sum` is a `fold`, it transforms an `Array` into a `number`, but it does that by taking into account all the monadic values of the `Array`.\n",
    "\n",
    "So how does this translate into `Option`? \n",
    "Well, `Option` only has one monadic value, but it does represent two different states: `None` and `Some`. So if we want to `fold` an `Option`, we have to provide handlers for both cases:"
   ]
  },
  {
   "cell_type": "code",
   "execution_count": 173,
   "metadata": {},
   "outputs": [
    {
     "name": "stdout",
     "output_type": "stream",
     "text": [
      "1\n",
      "None\n"
     ]
    }
   ],
   "source": [
    "type OptionFold = <A, B>(onNone: B, onSome: (a: A) => B) => (ma: O.Option<A>) => B\n",
    "\n",
    "const optFold: OptionFold = (onNone, onSome) => ma => O.isNone(ma) ? onNone : onSome(ma.value)\n",
    "\n",
    "const extract = optFold<number, string>(\"None\", n => JSON.stringify(n))\n",
    "\n",
    "console.log(extract(O.some(1)))\n",
    "console.log(extract(O.none))"
   ]
  },
  {
   "cell_type": "markdown",
   "metadata": {},
   "source": [
    "Cool! And now for `Promise`!"
   ]
  },
  {
   "cell_type": "code",
   "execution_count": 174,
   "metadata": {},
   "outputs": [],
   "source": [
    "type PromiseFold = <A, B>(onRejection: B, onFulfilled: (a: A) => B) => (ma: Promise<A>) => B\n",
    "\n",
    "const promiseFold: PromiseFold = (onRejection, onFulfilled) => ma => \"oh bollocks!\" as any"
   ]
  },
  {
   "cell_type": "markdown",
   "metadata": {},
   "source": [
    "yeah, bit of a bummer there! turns out there's no implementation for the `PromiseFold` type!\n",
    "If we call `.then` or `.catch` we get back another `Promise`! And remember that `await` is merely syntactic sugar, underneath it's still using `Promise`s, so we can never \"extract\" the monadic value from a `Promise`!\n",
    "\n",
    "**This is not a problem, rather, it's a feature!**  \n",
    "Recall that we're doing async programming here, so we don't know when that code will run, if it will run, or when it will complete. So we can't access the result willy nilly, we always have to specify that we want to do something with the result only when it's resolved. Only `.then` can we continue.  \n",
    "We can never mix async with synchronous code, which is why it's useful to have the `Promise` type propagated up the call stack!  \n",
    "\n",
    "So what do we learn from this? \n",
    "Turns out these functions are general patterns that apply across different data types, but not always!!  \n",
    "\n",
    "Sometimes, **it's important to propagate the data type instead of trying to \"get rid of them\"**.  \n",
    "This has massive implications for codebase structure.  \n",
    "If we keep \"pushing out\" the types, eventually they will propagate up to the top level (think `main`) function/module. There, we can define what the semantics are, so if we want slightly different behaviours for nullability and async, we can just adjust the implementation of `Promise` and `Option`, __*and then everything will still type check and work*__!  \n",
    "We go from having individual functions dealing with all these effects, to _**having the application react to them as a whole**_, with each function _**only caring about the happy path**_\n"
   ]
  },
  {
   "cell_type": "markdown",
   "metadata": {},
   "source": [
    "## Either madness or genius\n",
    "\n",
    "We're finally ready to talk about `Either`!\n",
    "\n",
    "`Either` is a slightly different beast as it has two type arguments. We define it as:"
   ]
  },
  {
   "cell_type": "code",
   "execution_count": 175,
   "metadata": {},
   "outputs": [],
   "source": [
    "type Left<E> = { _tag: \"Left\", left: E }\n",
    "type Right<A> = { _tag: \"Right\", right: A }\n",
    "\n",
    "type Either<E, A> = Left<E> | Right<A>"
   ]
  },
  {
   "cell_type": "markdown",
   "metadata": {},
   "source": [
    "> **Tip** Typically, the `Left` side is used for error types, hence the abbreviation `E`.  "
   ]
  },
  {
   "cell_type": "markdown",
   "metadata": {},
   "source": [
    "Let's think about what it means to `map`, `chain`, `filter` and `fold` an `Either`\n",
    "\n",
    "The easiest one is probably `fold`.\n",
    "\n",
    "After all, all we're talking about is checking if we have a correct `Right` value or a `Left` error.\n"
   ]
  },
  {
   "cell_type": "code",
   "execution_count": 176,
   "metadata": {},
   "outputs": [
    {
     "name": "stderr",
     "output_type": "stream",
     "text": [
      "4:63 - Argument of type 'Either<E, A>' is not assignable to parameter of type 'Either<unknown, unknown>'.\n",
      "4:63 - Type 'Left<E>' is not assignable to type 'Either<unknown, unknown>'.\n",
      "4:63 - Property 'left' is missing in type 'Left<E>' but required in type 'Left<unknown>'.\n",
      "4:96 - Argument of type 'E | A' is not assignable to parameter of type 'A'.\n",
      "4:96 - 'A' could be instantiated with an arbitrary type which could be unrelated to 'E | A'.\n"
     ]
    }
   ],
   "source": [
    "import * as E from 'fp-ts/Either'\n",
    "type EitherFold = <E, A, B>(onLeft: (e: E) => B, onRight: (a: A) => B) => (ma: E.Either<E, A>) => B\n",
    "\n",
    "const eFold: EitherFold = (onLeft, onRight) => ma => E.isLeft(ma) ? onLeft(ma.left) : onRight(ma.right)\n",
    " \n",
    "const extract = E.fold<string, number, string>(e => e, n => JSON.stringify(n))\n",
    "\n",
    "console.log(F.pipe(E.right(10), extract))\n",
    "console.log(F.pipe(E.left(\"error\"), extract))"
   ]
  },
  {
   "attachments": {},
   "cell_type": "markdown",
   "metadata": {},
   "source": [
    "Cool! Easy!\n",
    "\n",
    "> *Aside* `E.fold` forces the return type for the `Left` and `Right` side to be the same. There are other similar functions in the `Either` module that relax that restriction\n"
   ]
  },
  {
   "attachments": {},
   "cell_type": "markdown",
   "metadata": {},
   "source": [
    "Let's look at `filter` next\n",
    "\n",
    "If we have a `Right` value, and it fails to pass a `filter`, we're probably talking about an error we want to track. So we should change our `Right` to `Left`"
   ]
  },
  {
   "cell_type": "code",
   "execution_count": null,
   "metadata": {},
   "outputs": [],
   "source": [
    "type FilterEither = <A, E>(f: (a: A) => boolean, onFail: E) => (ma: Either<E, A>) => Either<E, A>\n",
    "\n",
    "const eitherFilter: FilterEither = (f, e) => E.chain(a => f(a) ? E.right(a) : E.left(e))"
   ]
  },
  {
   "attachments": {},
   "cell_type": "markdown",
   "metadata": {},
   "source": [
    "So same thing as for `Option`, except we pass in the error value we would like to keep if the `filter` fails.  \n",
    "As before, we leverage the `chain` mechanics for the filter implementation!\n",
    "\n",
    "So what are those mechanics? How does `chain` work?\n",
    "\n",
    "Le's compare with `Option`. There we said that if the value is `None`, then there's no point in chaining anything else. The same could be applied here, if we have an error, we want don't want to do anything else to the value except propagate that error.  \n",
    "In effect, it's a \"bail-on-first-error\" kinda thing!"
   ]
  },
  {
   "cell_type": "code",
   "execution_count": null,
   "metadata": {},
   "outputs": [],
   "source": [
    "\n",
    "type EitherChain = <Err, A, B>(f: (a: A) => E.Either<Err, B>) => (a: E.Either<Err, A>) => E.Either<Err, B> // Err for disambiguating with import E\n",
    "\n",
    "const eChain: EitherChain = f => ma => E.isLeft(ma) ? ma : f(ma.right) "
   ]
  },
  {
   "attachments": {},
   "cell_type": "markdown",
   "metadata": {},
   "source": [
    "And now we can test in combination with `filter`"
   ]
  },
  {
   "cell_type": "code",
   "execution_count": null,
   "metadata": {},
   "outputs": [],
   "source": [
    "const rightPos = E.right(10)\n",
    "const rightNeg = E.right(-10)\n",
    "const left = E.left(\"booooo!\")\n",
    "\n",
    "const check =  eitherFilter(isPositive, \"not positive\")\n",
    "\n",
    "console.log(check(rightPos))\n",
    "console.log(check(rightNeg))\n",
    "console.log(check(left))\n"
   ]
  },
  {
   "attachments": {},
   "cell_type": "markdown",
   "metadata": {},
   "source": [
    "So what about `map`? That seemed to be the simplest one before, why haven't we implemented it yet? \n",
    "\n",
    "Well, let's write the type of a general `map` function"
   ]
  },
  {
   "cell_type": "code",
   "execution_count": null,
   "metadata": {},
   "outputs": [],
   "source": [
    "type Mapper = <A, B>(f: (a: A) => B) => (a: A) => B"
   ]
  },
  {
   "attachments": {},
   "cell_type": "markdown",
   "metadata": {},
   "source": [
    "Notice how we only have 2 types? But for `Either`, there's 3: `A`, `B` and the extra `E` for the error type\n",
    "\n",
    "So how do we deal with this? should we `map` the `Right` or the `Left` side, or both?\n",
    "Logically, it makes sense to only `map` the `Right`. After all, we said we're implementing \"bail-on-first-error\".  \n",
    "We can't do both sides since `E` and `A` rare different types. Besides, we can easily implement another function `bimap`, similar to `map`, which would have 2 mapping functions as params: one for mapping the `Left` side, another for the `Right`.\n",
    "\n",
    "So we want to `map` only on the `Right`. \n",
    "Let's do that!"
   ]
  },
  {
   "cell_type": "code",
   "execution_count": null,
   "metadata": {},
   "outputs": [],
   "source": [
    "type EitherMap = <A, B>(f: (a: A) => B) => <Err>(ma: E.Either<Err, A>) => E.Either<Err, B>\n",
    "\n",
    "const eMap = f => ma => E.isLeft(ma) ? ma : E.right(f(ma.right))\n",
    "\n",
    "const stringify = eMap((x: any) => JSON.stringify(x))\n",
    "\n",
    "console.log(stringify(E.right(1)))\n",
    "console.log(stringify(E.left(\"error\")))"
   ]
  },
  {
   "attachments": {},
   "cell_type": "markdown",
   "metadata": {},
   "source": [
    "So what's the big deal? It's not that different from the other data types!\n",
    "\n",
    "Let's look look closer, `map` only operates on `A`, it's not really aware of `E`. In fact, to provide the mapping function, `E` is not needed!\n",
    "All the other combinators had to be aware of `E`, but not `map`!  \n",
    "\n",
    "> **Note** this is why, by convention, we specify the `E` type argument first, so that `map` only works on the right-most (last) type argument\n",
    "\n",
    "This results in an interesting property.  \n",
    "Look at the `stringify` function. We can view that as a mapping function *specialized for the `Either` data type*. And we achieved this specialization, by calling the implementation of `map` for `Either`.  \n"
   ]
  },
  {
   "cell_type": "code",
   "execution_count": null,
   "metadata": {},
   "outputs": [],
   "source": [
    "type GenericMapper = <A, B>(a: A) => B\n",
    "type EitherMapper = <A, B, E>(a: Either<E, A>) => Either<E, B> "
   ]
  },
  {
   "attachments": {},
   "cell_type": "markdown",
   "metadata": {},
   "source": [
    "We turned `GenericMapper` into `EitherMapper` by calling the implementation of `map` for `Either`\n",
    "\n",
    "This begs the question, does this work for other data types? Well, YES! We've already seen it!"
   ]
  },
  {
   "cell_type": "code",
   "execution_count": null,
   "metadata": {},
   "outputs": [],
   "source": [
    "type OptionMapper = <A, B>(a: O.Option< A>) => O.Option<B> \n",
    "type PromiseMapper = <A, B>(a: Promise<A>) => Promise<B> "
   ]
  },
  {
   "attachments": {},
   "cell_type": "markdown",
   "metadata": {},
   "source": [
    "If we call the implementation of map for `Option`, we get an `OptionMapper`  \n",
    "If we call the implementation of map for `Promise`, we get an `PromiseMapper`  \n",
    "\n",
    "\n",
    "We can generalize `map` to that it works on \"containers\". Doing so means that calling any implementation of `map` for a particular data type *lifts* (ie, specializes) the mapping function to a version which works on the *monadic* values of the specified \"container\" (as in, `Option`, `Either`, `Promise`, etc) "
   ]
  },
  {
   "cell_type": "code",
   "execution_count": null,
   "metadata": {},
   "outputs": [],
   "source": [
    "type Container<A> = any /* some data type*/ \n",
    "\n",
    "type ContainerMap = <A, B>(f: (a: A) => B) => (a: Container<A>) => Container<B>"
   ]
  },
  {
   "attachments": {},
   "cell_type": "markdown",
   "metadata": {},
   "source": [
    "Now, the type signature above might be elucidative, but it's actually not easy to implement in TypeScript. And we'll run into problems when working with `Either`\n",
    "We'll see why in a subsequent chapter, where we will abstract these combinators so we can work with them generically, without specializing it to each data type\n",
    "\n",
    "For now, the important thing to note are:  \n",
    "\n",
    "* We can use the same patterns and functions for each data type\n",
    "* The combinators aways implement the same pattern\n",
    "* Each data type will have different semantics\n",
    "* `map` *lifts* a function to a \"container\"\n",
    "* `Either` has 2 type arguments, making life slightly different"
   ]
  }
 ],
 "metadata": {
  "kernelspec": {
   "display_name": "TypeScript",
   "language": "typescript",
   "name": "tslab"
  },
  "language_info": {
   "codemirror_mode": {
    "mode": "typescript",
    "name": "javascript",
    "typescript": true
   },
   "file_extension": ".ts",
   "mimetype": "text/typescript",
   "name": "typescript",
   "version": "3.7.2"
  }
 },
 "nbformat": 4,
 "nbformat_minor": 2
}
