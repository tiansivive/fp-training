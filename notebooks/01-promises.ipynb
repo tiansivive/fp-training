{
 "cells": [
  {
   "cell_type": "code",
   "execution_count": 3,
   "metadata": {},
   "outputs": [
    {
     "name": "stderr",
     "output_type": "stream",
     "text": [
      "5:20 - File '/Users/tiansivive/Workspace/fp-ts-tutorial/notebooks/lib/promise.ts' is not under 'rootDir' '/Users/tiansivive/Workspace/fp-ts-tutorial/notebooks/01-do_notation'. 'rootDir' is expected to contain all source files.\n",
      "6:76 - File '/Users/tiansivive/Workspace/fp-ts-tutorial/notebooks/mocks/requests.ts' is not under 'rootDir' '/Users/tiansivive/Workspace/fp-ts-tutorial/notebooks/01-do_notation'. 'rootDir' is expected to contain all source files.\n"
     ]
    }
   ],
   "source": [
    "import * as E from \"fp-ts/Either\";\n",
    "import * as A from \"fp-ts/Array\";\n",
    "import * as F from \"fp-ts/function\";\n",
    "\n",
    "import * as P from \"../lib/promise\";\n",
    "import { request1, request2, request3, request4, request5, request6 } from '../mocks/requests'\n"
   ]
  },
  {
   "cell_type": "markdown",
   "metadata": {},
   "source": [
    "Simple sequential async requests"
   ]
  },
  {
   "cell_type": "code",
   "execution_count": null,
   "metadata": {},
   "outputs": [],
   "source": [
    "const sequential = request1(0)\n",
    "    .then(request2)\n",
    "    .then(request3)\n",
    "    .then(request4)\n",
    "    .then(request5)\n",
    "    .then(request6);\n",
    "\n",
    "console.log(\"sequential:\", await sequential);"
   ]
  },
  {
   "attachments": {},
   "cell_type": "markdown",
   "metadata": {},
   "source": [
    "Sometimes we need to keep the previous responses around, which causes nesting"
   ]
  },
  {
   "cell_type": "code",
   "execution_count": null,
   "metadata": {},
   "outputs": [],
   "source": [
    "const nested = request1(0).then(response1 =>\n",
    "    request2({ response1 }).then(response2 =>\n",
    "      request3({ response1, response2 }).then(response3 =>\n",
    "        request4({ response1, response2, response3 }).then(response4 =>\n",
    "          request5({ response1, response2, response3, response4 })\n",
    "        )\n",
    "      )\n",
    "    )\n",
    "  );\n",
    "\n",
    "  console.log(\"nested:\", await nested);"
   ]
  },
  {
   "attachments": {},
   "cell_type": "markdown",
   "metadata": {},
   "source": [
    "Luckily, the `await`/`async` syntax helps with this\n",
    "\n",
    "Although there are some issues: it hides the `Promise` data type away, it allows imperative style which can be tricky to follow (like awaiting within a loop or something)\n",
    "\n",
    "Most importantly, `await`/`async` is specific to `Promises`, you cannot use it for other data types\n",
    " "
   ]
  },
  {
   "cell_type": "code",
   "execution_count": 4,
   "metadata": {},
   "outputs": [
    {
     "name": "stderr",
     "output_type": "stream",
     "text": [
      "1:24 - Cannot find name 'request1'.\n",
      "2:24 - Cannot find name 'request2'.\n",
      "3:24 - Cannot find name 'request3'.\n",
      "4:24 - Cannot find name 'request4'.\n",
      "5:24 - Cannot find name 'request5'.\n"
     ]
    }
   ],
   "source": [
    "const awaited1 = await request1(0);\n",
    "const awaited2 = await request2({ awaited1 });\n",
    "const awaited3 = await request3({ awaited1, awaited2 });\n",
    "const awaited4 = await request4({ awaited1, awaited2, awaited3 });\n",
    "const awaited5 = await request5({ awaited1, awaited2, awaited3, awaited4 });\n",
    "\n",
    "console.log(\"awaited:\", { awaited1, awaited2, awaited3, awaited4, awaited5 });"
   ]
  },
  {
   "attachments": {},
   "cell_type": "markdown",
   "metadata": {},
   "source": [
    "Enter `do notation`\n",
    "this is equivalent to the previous `await`/`async` code\n",
    "\n",
    "`bind` receives a key name and a function that returns a promise. The result of that function will be the value of the supplied key in an internal object\n",
    "We can then access that internal object in each subsequent `bind`"
   ]
  },
  {
   "cell_type": "code",
   "execution_count": null,
   "metadata": {},
   "outputs": [],
   "source": [
    "const piped = F.pipe(\n",
    "    P.Do,\n",
    "    P.bind(\"response1\", () => request1(0)),\n",
    "    P.bind(\"response2\", ({ response1 }) => request2({ response1 })),\n",
    "    P.bind(\"response3\", ({ response1, response2 }) => request3({ response1, response2 })),\n",
    "    P.bind(\"response4\", ({ response1, response2, response3 }) =>\n",
    "      request4({ response1, response2, response3 })\n",
    "    ),\n",
    "    P.bind(\"response5\", ({ response1, response2, response3, response4 }) =>\n",
    "      request5({ response1, response2, response3, response4 })\n",
    "    )\n",
    "  );\n",
    "\n",
    "  console.log(\"piped\", await piped);"
   ]
  },
  {
   "attachments": {},
   "cell_type": "markdown",
   "metadata": {},
   "source": [
    "Sometimes, when the types are right, we can achieve more concise notation"
   ]
  },
  {
   "cell_type": "code",
   "execution_count": null,
   "metadata": {},
   "outputs": [],
   "source": [
    "const piped2 = F.pipe(\n",
    "    P.Do,\n",
    "    P.apS(\"response1\", request1(0)),\n",
    "    P.bind(\"response2\", request2),\n",
    "    P.bind(\"response3\", request3),\n",
    "    P.bind(\"response4\", request4),\n",
    "    P.bind(\"response5\", request5)\n",
    "  );\n",
    "  \n",
    " console.log(\"piped\", await piped2);"
   ]
  }
 ],
 "metadata": {
  "kernelspec": {
   "display_name": "TypeScript",
   "language": "typescript",
   "name": "tslab"
  },
  "language_info": {
   "codemirror_mode": {
    "mode": "typescript",
    "name": "javascript",
    "typescript": true
   },
   "file_extension": ".ts",
   "mimetype": "text/typescript",
   "name": "typescript",
   "version": "3.7.2"
  }
 },
 "nbformat": 4,
 "nbformat_minor": 2
}
