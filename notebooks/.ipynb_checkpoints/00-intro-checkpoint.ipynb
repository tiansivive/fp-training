{
 "cells": [
  {
   "cell_type": "markdown",
   "metadata": {},
   "source": [
    "## FP data types\n",
    "\n",
    "`fp-ts` provides us with several data types that encapsulate different \"behaviours\" we might need when handling __values__ in our app.   \n",
    "We can say that we are enhancing our values with different capabilities. Let's take a look at what those are:\n",
    "\n",
    "Note that the actual implementation in `fp-ts` might be slightly different than presented here, as we're aiming for a simple short summary\n",
    "\n"
   ]
  },
  {
   "cell_type": "markdown",
   "metadata": {},
   "source": [
    "### `Option`\n",
    "\n",
    "This is the simplest data type and it provides a representation of an *optional value*   \n",
    "We define it as:\n"
   ]
  },
  {
   "cell_type": "code",
   "execution_count": 3,
   "metadata": {},
   "outputs": [],
   "source": [
    "type None = { _tag: 'None' }\n",
    "type Some<A> = {\n",
    "    _tag: 'Some'\n",
    "    value: A\n",
    "}\n",
    "\n",
    "type Option<A> = None | Some<A>"
   ]
  },
  {
   "cell_type": "markdown",
   "metadata": {},
   "source": [
    "We use a `_tag` field to create a tagged union so we can narrow the types when needed. This is a common pattern we'll use for most data types.   \n"
   ]
  },
  {
   "cell_type": "markdown",
   "metadata": {},
   "source": [
    "In TypeScript, we can usually defined a nullable or optional value with `A | undefined`. `Option` provides us with a different way to achieve the same functionality without ever having to deal with `undefined`.   \n",
    "There are some interesting implications to this, for example:\n",
    "\n"
   ]
  },
  {
   "cell_type": "code",
   "execution_count": 4,
   "metadata": {},
   "outputs": [],
   "source": [
    "type ObjUndefined = { one: number, two?: number }\n",
    "type ObjOptional = { one: number, two: Option<number>}"
   ]
  },
  {
   "cell_type": "markdown",
   "metadata": {},
   "source": [
    "In the first one, `two` not existing might have a different meaning than it being merely `undefined`, which can sometimes cause bugs. On the other hand, `Option` will always be defined, but it might represent the absence of a value in the `None` case. So if we wanted to distinguish between \"not existing\" and \"being undefined\" we'd have to model that in a more explicit way, which should help prevent any bugs.   \n",
    "Despite this, most TS code is prolific with nullable values using `undefined`, so we're probably better off sticking with the native solution. Which is why we have a custom data type `Nullable` for better interop with normal TS code.  \n",
    "We define it as:\n"
   ]
  },
  {
   "cell_type": "code",
   "execution_count": 5,
   "metadata": {},
   "outputs": [],
   "source": [
    "type Nullable<A> = A | undefined"
   ]
  },
  {
   "cell_type": "markdown",
   "metadata": {},
   "source": [
    "Nevertheless, `fp-ts`  will always use `Option`, so we either need to convert it to a `Nullable`, or just continue using it.   \n",
    "A fairly common example is wanting to modify a value only if it's not `undefined`, something like:"
   ]
  },
  {
   "cell_type": "code",
   "execution_count": 6,
   "metadata": {},
   "outputs": [
    {
     "name": "stdout",
     "output_type": "stream",
     "text": [
      "foo!\n"
     ]
    }
   ],
   "source": [
    "let value: string | undefined = \"foo\"\n",
    "\n",
    "const exclam = (str: string) => str + \"!\"\n",
    "value  = value !== undefined ? exclam(value) : undefined "
   ]
  },
  {
   "cell_type": "markdown",
   "metadata": {},
   "source": [
    "We can extract that `undefined` check into a function we'll call `map` "
   ]
  },
  {
   "cell_type": "code",
   "execution_count": 7,
   "metadata": {},
   "outputs": [],
   "source": [
    "const map = <A, B>(ma: Nullable<A>, f: (a:A) => B) => ma!== undefined ? f(ma) : undefined"
   ]
  },
  {
   "cell_type": "markdown",
   "metadata": {},
   "source": [
    "\n",
    "> **Note**  \n",
    ">  \n",
    "> \n",
    "> When we typically want to denote a variable for a value of any simple type `A`, we call it `a` (or `b`, `c`, `d` and so on).   \n",
    "> Similarly, when referring to a function, we use `f`, `g`, `h` and so on.  \n",
    "> More interestingly, when we refer to one of these \"enhanced\" values like `Nullable<A>`, we use `fa`, `fb`, `fc` and so on.   \n",
    "> We'll cover why `f<x>` notation later, but it should at least be clear that `f` refers to the \"container\" and `a`, `b` etc, refer to the \"inner\" value   \n",
    ">    "
   ]
  },
  {
   "cell_type": "markdown",
   "metadata": {},
   "source": [
    "We can now refactor the above to:"
   ]
  },
  {
   "cell_type": "code",
   "execution_count": 8,
   "metadata": {},
   "outputs": [
    {
     "name": "stdout",
     "output_type": "stream",
     "text": [
      "foo!\n"
     ]
    }
   ],
   "source": [
    "let value: Nullable<string> = \"foo\"\n",
    "\n",
    "const exclam = (str: string) => str + \"!\"\n",
    "value = map(value, exclam)"
   ]
  },
  {
   "cell_type": "markdown",
   "metadata": {},
   "source": [
    "> Tip:  \n",
    ">\n",
    "> just using `map` can be ambiguous. We would typically import it, so it's good practice to use a single letter to group together the fns from the same module:\n",
    ">\n"
   ]
  },
  {
   "cell_type": "code",
   "execution_count": 9,
   "metadata": {},
   "outputs": [
    {
     "name": "stdout",
     "output_type": "stream",
     "text": [
      "foo!!\n"
     ]
    }
   ],
   "source": [
    "import * as N from './lib/nullable'\n",
    "import * as O from 'fp-ts/Option'\n",
    "\n",
    "value = N.map(value, exclam)"
   ]
  },
  {
   "cell_type": "markdown",
   "metadata": {},
   "source": [
    "For completion, let's add the implementation of `map` for `Option`"
   ]
  },
  {
   "cell_type": "code",
   "execution_count": 10,
   "metadata": {},
   "outputs": [
    {
     "name": "stdout",
     "output_type": "stream",
     "text": [
      "{ _tag: \u001b[32m'Some'\u001b[39m, value: \u001b[33m2\u001b[39m }\n",
      "{ _tag: \u001b[32m'None'\u001b[39m }\n"
     ]
    }
   ],
   "source": [
    "const optMap = <A, B>(ma: O.Option<A>, f: (a: A) => B) => fa._tag === \"None\" ? ma: { _tag: \"Some\", value: f(ma.value) }\n",
    "\n",
    "// or, using some utilities from `fp-ts`\n",
    "const optMap_ = <A, B>(ma: O.Option<A>, f: (a: A) => B) => O.isNone(ma) ? ma: O.of(f(ma.value))\n",
    "\n",
    "const optVal: O.Option<number> = O.some(1)\n",
    "const noVal: O.Option<number> = O.none\n",
    "\n",
    "const increment = x => x + 1\n",
    "\n",
    "console.log(optMap(optVal, increment))\n",
    "console.log(optMap(noVal, increment))\n"
   ]
  },
  {
   "cell_type": "markdown",
   "metadata": {},
   "source": [
    "## Currying: What's all this fuss with `=>`\n",
    "\n",
    "If you've checked the types for `O.map`, you might have noticed that it's slighty different than the implementation above. "
   ]
  }
 ],
 "metadata": {
  "kernelspec": {
   "display_name": "TypeScript",
   "language": "typescript",
   "name": "tslab"
  },
  "language_info": {
   "codemirror_mode": {
    "mode": "typescript",
    "name": "javascript",
    "typescript": true
   },
   "file_extension": ".ts",
   "mimetype": "text/typescript",
   "name": "typescript",
   "version": "3.7.2"
  }
 },
 "nbformat": 4,
 "nbformat_minor": 2
}
