{
 "cells": [
  {
   "cell_type": "markdown",
   "metadata": {},
   "source": [
    "## Common patterns\n",
    "\n",
    "#### What's this about Combinators? Sounds like a farming\n",
    "\n",
    "Think of it as just another name for utility functions.  \n",
    "Each data type, depending on its semantics, will have some version of these functions. We've already talked about `map`, that's one combinator. And we've seen how `map` kinda always does the same thing, but with slightly different semantics depending on the underlying data type it's operating on.\n",
    "\n"
   ]
  },
  {
   "cell_type": "markdown",
   "metadata": {},
   "source": [
    "### Chains? What's next, latex and whips?\n",
    "\n",
    "The easiest way to understand `chain` is to look at `Promise.then`. We've mentioned how `.then` offers the same functionality as `map` and also more. It's the \"more\" part we're interested in:\n",
    "\n"
   ]
  },
  {
   "cell_type": "code",
   "execution_count": 7,
   "metadata": {},
   "outputs": [],
   "source": [
    "type PromiseChain = <A, B>(promise: Promise<A>, f: (a: A) => Promise<B>) => Promise<B>\n",
    "\n",
    "const chain: PromiseChain = (promise, f) => promise.then(f)"
   ]
  },
  {
   "cell_type": "markdown",
   "metadata": {},
   "source": [
    "So we can see it's just passing in a handler to `.then`, and that the handler generates another promise. In essences, we're `chaining` async operations in sequence!"
   ]
  },
  {
   "cell_type": "code",
   "execution_count": 8,
   "metadata": {},
   "outputs": [
    {
     "name": "stdout",
     "output_type": "stream",
     "text": [
      "request1 arg: \u001b[90mundefined\u001b[39m\n",
      "request1 arg: \u001b[90mundefined\u001b[39m\n",
      "request2 arg: \u001b[33m1\u001b[39m\n",
      "request2 arg: \u001b[33m1\u001b[39m\n",
      "then: \u001b[33m2\u001b[39m\n",
      "chain: \u001b[33m2\u001b[39m\n"
     ]
    }
   ],
   "source": [
    "import * as F from 'fp-ts/function'\n",
    "import * as P from './lib/promise'\n",
    "import { request1, request2 } from './mocks/requests'\n",
    "\n",
    "\n",
    "const responseThen = Promise.resolve()\n",
    "    .then(request1)\n",
    "    .then(request2)\n",
    "const responseChain = F.pipe(\n",
    "    Promise.resolve(),\n",
    "    P.chain(request1),\n",
    "    P.chain(request2)\n",
    ")\n",
    "\n",
    "console.log(\"then:\", await responseThen)\n",
    "console.log(\"chain:\", await responseChain)\n",
    "\n"
   ]
  },
  {
   "cell_type": "markdown",
   "metadata": {},
   "source": [
    "Let's just analyse this a bit deeper, forget about `Promise`s for second, and let's think about this in a more general way:"
   ]
  },
  {
   "cell_type": "code",
   "execution_count": 9,
   "metadata": {},
   "outputs": [],
   "source": [
    "type T<A> = { /* Some data type, like Promise */ }\n",
    "\n",
    "type Chain = <A, B>(f: (a: A) => T<B>) => (ma: T<A>) => T<B>"
   ]
  },
  {
   "cell_type": "markdown",
   "metadata": {},
   "source": [
    "We're _applying a function_ that works on the \"inner\" value and returns another \"wrapped/enhanced\" value which is the result of that function.\n",
    "So for `Promise`s, `chain` allows us to make several sync calls in sequence, with each subsequent call having access to the previous result. Just like in a normal `Promise.then` _chain_!\n",
    "\n",
    "But `chain` also works for other data types, so what happens with `Option`?"
   ]
  },
  {
   "cell_type": "code",
   "execution_count": 10,
   "metadata": {},
   "outputs": [
    {
     "name": "stderr",
     "output_type": "stream",
     "text": [
      "7:44 - Operator '+' cannot be applied to types 'unknown' and '1'.\n",
      "9:31 - Argument of type '(a: Option<Option<unknown>>) => Option<any>' is not assignable to parameter of type '(a: Option<number>) => Option<any>'.\n",
      "9:31 - Types of parameters 'a' and 'a' are incompatible.\n",
      "9:31 - Type 'Option<number>' is not assignable to type 'Option<Option<unknown>>'.\n",
      "9:31 - Type 'Some<number>' is not assignable to type 'Option<Option<unknown>>'.\n",
      "9:31 - Type 'Some<number>' is not assignable to type 'Some<Option<unknown>>'.\n",
      "9:31 - Type 'number' is not assignable to type 'Option<unknown>'.\n",
      "10:32 - Argument of type '(a: Option<Option<unknown>>) => Option<any>' is not assignable to parameter of type '(a: Option<number>) => Option<any>'.\n"
     ]
    }
   ],
   "source": [
    "import * as O from 'fp-ts/Option'\n",
    "\n",
    "type OptionChain = <A, B>(f: (a: A) => O.Option<B>) => (a: O.Option<A>) => O.Option<B>\n",
    "\n",
    "const optChain: OptionChain = f => ma => O.isNone(ma) ? O.none : f(ma.value) \n",
    "\n",
    "const check = O.chain(n => n > 10 ? O.some(n + 1) : O.none)\n",
    "\n",
    "const one = F.pipe(O.some(1), optChain(check))\n",
    "const two = F.pipe(O.some(20), optChain(check))\n",
    "const three = F.pipe(O.none, optChain(check))\n",
    "\n",
    "console.log(\"one\", one)\n",
    "console.log(\"two\", two)\n",
    "console.log(\"three\", three)"
   ]
  },
  {
   "cell_type": "markdown",
   "metadata": {},
   "source": []
  }
 ],
 "metadata": {
  "kernelspec": {
   "display_name": "TypeScript",
   "language": "typescript",
   "name": "tslab"
  },
  "language_info": {
   "codemirror_mode": {
    "mode": "typescript",
    "name": "javascript",
    "typescript": true
   },
   "file_extension": ".ts",
   "mimetype": "text/typescript",
   "name": "typescript",
   "version": "3.7.2"
  }
 },
 "nbformat": 4,
 "nbformat_minor": 2
}
