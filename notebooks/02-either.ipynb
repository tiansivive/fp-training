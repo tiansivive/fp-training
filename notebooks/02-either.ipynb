{
 "cells": [
  {
   "cell_type": "code",
   "execution_count": 1,
   "metadata": {
    "dotnet_interactive": {
     "language": "javascript"
    },
    "polyglot_notebook": {
     "kernelName": "javascript"
    }
   },
   "outputs": [],
   "source": [
    "import * as E from \"fp-ts/Either\";\n",
    "import * as F from \"fp-ts/function\";"
   ]
  },
  {
   "attachments": {},
   "cell_type": "markdown",
   "metadata": {},
   "source": [
    "The cool thing is we can program in the exact same pattern with other data types like `Either`\n",
    "\n",
    "Here we sequentially generate `Either` values that depend on the previous ones:"
   ]
  },
  {
   "cell_type": "code",
   "execution_count": 2,
   "metadata": {
    "dotnet_interactive": {
     "language": "csharp"
    },
    "polyglot_notebook": {
     "kernelName": "csharp"
    }
   },
   "outputs": [
    {
     "name": "stdout",
     "output_type": "stream",
     "text": [
      "either {\n",
      "  _tag: 'Right',\n",
      "  right: { value1: 1, value2: 2, value3: 4, value4: 8 }\n",
      "}\n"
     ]
    }
   ],
   "source": [
    "const either = F.pipe(\n",
    "    E.Do,\n",
    "    E.apS(\"value1\", E.right(1)),\n",
    "    E.bind(\"value2\", ({ value1 }) => E.right(value1 + 1)),\n",
    "    E.bind(\"value3\", ({ value1, value2 }) => E.right(value1 + value2 + 1)),\n",
    "    E.bind(\"value4\", ({ value1, value2, value3 }) =>\n",
    "      E.right(value1 + value2 + value3 + 1)\n",
    "    )\n",
    "  );\n",
    "\n",
    "  console.log(\"either\", either);"
   ]
  },
  {
   "attachments": {},
   "cell_type": "markdown",
   "metadata": {},
   "source": [
    "But oh no! what if an error happens?\n",
    "The implementation of `bind` will implement the `Either` semantics.\n",
    "That is, as soon as we get an error (`Left`), then we just ignore all the subsequent `map`/`bind`/`chain`/whatever\n",
    "\n",
    "If we were using another datatype, like `Option`, then `Option.bind` would implement the desired different semantics (nullability, returning `undefined` if the value is `undefined`)\n"
   ]
  },
  {
   "cell_type": "code",
   "execution_count": 3,
   "metadata": {},
   "outputs": [
    {
     "name": "stdout",
     "output_type": "stream",
     "text": [
      "error { _tag: 'Left', left: 'error' }\n"
     ]
    }
   ],
   "source": [
    "const err = F.pipe(\n",
    "    either,\n",
    "    E.bind(\"value5\", () => E.left(\"error\")),\n",
    "    E.bind(\"value6\", ({ value1, value2, value3, value4, value5 }) =>\n",
    "      E.right(value1 + value2 + value3 + value4 + value5 + 1)\n",
    "    )\n",
    "  );\n",
    "\n",
    "  console.log(\"error\", err);"
   ]
  }
 ],
 "metadata": {
  "kernelspec": {
   "display_name": "TypeScript",
   "language": "typescript",
   "name": "tslab"
  },
  "language_info": {
   "codemirror_mode": {
    "mode": "typescript",
    "name": "javascript",
    "typescript": true
   },
   "file_extension": ".ts",
   "mimetype": "text/typescript",
   "name": "typescript",
   "version": "3.7.2"
  },
  "orig_nbformat": 4,
  "polyglot_notebook": {
   "kernelInfo": {
    "defaultKernelName": "csharp",
    "items": [
     {
      "aliases": [],
      "name": "csharp"
     }
    ]
   }
  }
 },
 "nbformat": 4,
 "nbformat_minor": 2
}
