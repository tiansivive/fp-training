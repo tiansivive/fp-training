{
 "cells": [
  {
   "cell_type": "code",
   "execution_count": 2,
   "metadata": {},
   "outputs": [],
   "source": [
    "import * as E from \"fp-ts/Either\";\n",
    "import * as A from \"fp-ts/Array\";\n",
    "import * as F from \"fp-ts/function\";\n",
    "\n",
    "import * as P from \"./lib/promise\";\n",
    "import { request1, request2, request3, request4, request5, request6 } from './mocks/requests'\n"
   ]
  },
  {
   "cell_type": "markdown",
   "metadata": {},
   "source": [
    "Simple sequential async requests"
   ]
  },
  {
   "cell_type": "code",
   "execution_count": 3,
   "metadata": {},
   "outputs": [
    {
     "name": "stdout",
     "output_type": "stream",
     "text": [
      "request1 arg: \u001b[33m0\u001b[39m\n",
      "request2 arg: \u001b[33m1\u001b[39m\n",
      "request3 arg: \u001b[33m2\u001b[39m\n",
      "request4 arg: \u001b[33m3\u001b[39m\n",
      "request5 arg: \u001b[33m4\u001b[39m\n",
      "request6 arg: \u001b[33m5\u001b[39m\n",
      "sequential: \u001b[33m6\u001b[39m\n"
     ]
    }
   ],
   "source": [
    "const sequential = request1(0)\n",
    "    .then(request2)\n",
    "    .then(request3)\n",
    "    .then(request4)\n",
    "    .then(request5)\n",
    "    .then(request6);\n",
    "\n",
    "console.log(\"sequential:\", await sequential);"
   ]
  },
  {
   "cell_type": "markdown",
   "metadata": {},
   "source": [
    "Sometimes we need to keep the previous responses around, which causes nesting"
   ]
  },
  {
   "cell_type": "code",
   "execution_count": 4,
   "metadata": {},
   "outputs": [
    {
     "name": "stdout",
     "output_type": "stream",
     "text": [
      "request1 arg: \u001b[33m0\u001b[39m\n",
      "request2 arg: { response1: \u001b[33m1\u001b[39m }\n",
      "request3 arg: { response1: \u001b[33m1\u001b[39m, response2: \u001b[33m2\u001b[39m }\n",
      "request4 arg: { response1: \u001b[33m1\u001b[39m, response2: \u001b[33m2\u001b[39m, response3: \u001b[33m3\u001b[39m }\n",
      "request5 arg: { response1: \u001b[33m1\u001b[39m, response2: \u001b[33m2\u001b[39m, response3: \u001b[33m3\u001b[39m, response4: \u001b[33m4\u001b[39m }\n",
      "nested: \u001b[33m5\u001b[39m\n"
     ]
    }
   ],
   "source": [
    "const nested = request1(0).then(response1 =>\n",
    "    request2({ response1 }).then(response2 =>\n",
    "      request3({ response1, response2 }).then(response3 =>\n",
    "        request4({ response1, response2, response3 }).then(response4 =>\n",
    "          request5({ response1, response2, response3, response4 })\n",
    "        )\n",
    "      )\n",
    "    )\n",
    "  );\n",
    "\n",
    "  console.log(\"nested:\", await nested);"
   ]
  },
  {
   "cell_type": "markdown",
   "metadata": {},
   "source": [
    "Luckily, the `await`/`async` syntax helps with this\n",
    "\n",
    "Although there are some issues: it hides the `Promise` data type away, it allows imperative style which can be tricky to follow (like awaiting within a loop or something)\n",
    "\n",
    "Most importantly, `await`/`async` is specific to `Promises`, you cannot use it for other data types\n",
    " "
   ]
  },
  {
   "cell_type": "code",
   "execution_count": 6,
   "metadata": {},
   "outputs": [
    {
     "name": "stdout",
     "output_type": "stream",
     "text": [
      "request1 arg: 0\n",
      "request2 arg: { awaited1: 1 }\n",
      "request3 arg: { awaited1: 1, awaited2: 2 }\n",
      "request4 arg: { awaited1: 1, awaited2: 2, awaited3: 3 }\n",
      "request5 arg: { awaited1: 1, awaited2: 2, awaited3: 3, awaited4: 4 }\n",
      "awaited: { awaited1: 1, awaited2: 2, awaited3: 3, awaited4: 4, awaited5: 5 }\n"
     ]
    }
   ],
   "source": [
    "const awaited1 = await request1(0);\n",
    "const awaited2 = await request2({ awaited1 });\n",
    "const awaited3 = await request3({ awaited1, awaited2 });\n",
    "const awaited4 = await request4({ awaited1, awaited2, awaited3 });\n",
    "const awaited5 = await request5({ awaited1, awaited2, awaited3, awaited4 });\n",
    "\n",
    "console.log(\"awaited:\", { awaited1, awaited2, awaited3, awaited4, awaited5 });"
   ]
  },
  {
   "cell_type": "markdown",
   "metadata": {},
   "source": [
    "Enter `do notation`\n",
    "this is equivalent to the previous `await`/`async` code\n",
    "\n",
    "`bind` receives a key name and a function that returns a promise. The result of that function will be the value of the supplied key in an internal object\n",
    "We can then access that internal object in each subsequent `bind`"
   ]
  },
  {
   "cell_type": "code",
   "execution_count": 7,
   "metadata": {},
   "outputs": [
    {
     "name": "stdout",
     "output_type": "stream",
     "text": [
      "request1 arg: 0\n",
      "request2 arg: { response1: 1 }\n",
      "request3 arg: { response1: 1, response2: 2 }\n",
      "request4 arg: { response1: 1, response2: 2, response3: 3 }\n",
      "request5 arg: { response1: 1, response2: 2, response3: 3, response4: 4 }\n",
      "piped {\n",
      "  response1: 1,\n",
      "  response2: 2,\n",
      "  response3: 3,\n",
      "  response4: 4,\n",
      "  response5: 5\n",
      "}\n"
     ]
    }
   ],
   "source": [
    "const piped = F.pipe(\n",
    "    P.Do,\n",
    "    P.bind(\"response1\", () => request1(0)),\n",
    "    P.bind(\"response2\", ({ response1 }) => request2({ response1 })),\n",
    "    P.bind(\"response3\", ({ response1, response2 }) => request3({ response1, response2 })),\n",
    "    P.bind(\"response4\", ({ response1, response2, response3 }) =>\n",
    "      request4({ response1, response2, response3 })\n",
    "    ),\n",
    "    P.bind(\"response5\", ({ response1, response2, response3, response4 }) =>\n",
    "      request5({ response1, response2, response3, response4 })\n",
    "    )\n",
    "  );\n",
    "\n",
    "  console.log(\"piped\", await piped);"
   ]
  },
  {
   "cell_type": "markdown",
   "metadata": {},
   "source": []
  },
  {
   "cell_type": "markdown",
   "metadata": {},
   "source": [
    "Sometimes, when the types are right, we can achieve more concise notation"
   ]
  },
  {
   "cell_type": "code",
   "execution_count": 8,
   "metadata": {},
   "outputs": [
    {
     "name": "stdout",
     "output_type": "stream",
     "text": [
      "request1 arg: 0\n",
      "request2 arg: { response1: 1 }\n",
      "request3 arg: { response1: 1, response2: 2 }\n",
      "request4 arg: { response1: 1, response2: 2, response3: 3 }\n",
      "request5 arg: { response1: 1, response2: 2, response3: 3, response4: 4 }\n",
      "piped {\n",
      "  response1: 1,\n",
      "  response2: 2,\n",
      "  response3: 3,\n",
      "  response4: 4,\n",
      "  response5: 5\n",
      "}\n"
     ]
    }
   ],
   "source": [
    "const piped2 = F.pipe(\n",
    "    P.Do,\n",
    "    P.apS(\"response1\", request1(0)),\n",
    "    P.bind(\"response2\", request2),\n",
    "    P.bind(\"response3\", request3),\n",
    "    P.bind(\"response4\", request4),\n",
    "    P.bind(\"response5\", request5)\n",
    "  );\n",
    "  \n",
    "console.log(\"piped\", await piped2);\n",
    " \n"
   ]
  },
  {
   "cell_type": "code",
   "execution_count": null,
   "metadata": {},
   "outputs": [],
   "source": [
    "import * as E from \"fp-ts/Either\";\n",
    "import * as F from \"fp-ts/function\";"
   ]
  },
  {
   "cell_type": "markdown",
   "metadata": {},
   "source": [
    "The cool thing is we can program in the exact same pattern with other data types like `Either`\n",
    "\n",
    "Here we sequentially generate `Either` values that depend on the previous ones:"
   ]
  },
  {
   "cell_type": "code",
   "execution_count": null,
   "metadata": {},
   "outputs": [
    {
     "name": "stdout",
     "output_type": "stream",
     "text": [
      "either {\n",
      "  _tag: 'Right',\n",
      "  right: { value1: 1, value2: 2, value3: 4, value4: 8 }\n",
      "}\n"
     ]
    }
   ],
   "source": [
    "const either = F.pipe(\n",
    "    E.Do,\n",
    "    E.apS(\"value1\", E.right(1)),\n",
    "    E.bind(\"value2\", ({ value1 }) => E.right(value1 + 1)),\n",
    "    E.bind(\"value3\", ({ value1, value2 }) => E.right(value1 + value2 + 1)),\n",
    "    E.bind(\"value4\", ({ value1, value2, value3 }) =>\n",
    "      E.right(value1 + value2 + value3 + 1)\n",
    "    )\n",
    "  );\n",
    "\n",
    "  console.log(\"either\", either);"
   ]
  },
  {
   "cell_type": "markdown",
   "metadata": {},
   "source": [
    "But oh no! what if an error happens?\n",
    "The implementation of `bind` will implement the `Either` semantics.\n",
    "That is, as soon as we get an error (`Left`), then we just ignore all the subsequent `map`/`bind`/`chain`/whatever\n",
    "\n",
    "If we were using another datatype, like `Option`, then `Option.bind` would implement the desired different semantics (nullability, returning `undefined` if the value is `undefined`)\n"
   ]
  },
  {
   "cell_type": "code",
   "execution_count": null,
   "metadata": {},
   "outputs": [
    {
     "name": "stdout",
     "output_type": "stream",
     "text": [
      "error { _tag: 'Left', left: 'error' }\n"
     ]
    }
   ],
   "source": [
    "const err = F.pipe(\n",
    "    either,\n",
    "    E.bind(\"value5\", () => E.left(\"error\")),\n",
    "    E.bind(\"value6\", ({ value1, value2, value3, value4, value5 }) =>\n",
    "      E.right(value1 + value2 + value3 + value4 + value5 + 1)\n",
    "    )\n",
    "  );\n",
    "\n",
    "  console.log(\"error\", err);"
   ]
  }
 ],
 "metadata": {
  "kernelspec": {
   "display_name": "TypeScript",
   "language": "typescript",
   "name": "tslab"
  },
  "language_info": {
   "codemirror_mode": {
    "mode": "typescript",
    "name": "javascript",
    "typescript": true
   },
   "file_extension": ".ts",
   "mimetype": "text/typescript",
   "name": "typescript",
   "version": "3.7.2"
  }
 },
 "nbformat": 4,
 "nbformat_minor": 2
}
