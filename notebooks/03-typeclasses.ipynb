{
 "cells": [
  {
   "cell_type": "code",
   "execution_count": 50,
   "metadata": {},
   "outputs": [],
   "source": [
    "import * as F from \"fp-ts/function\";\n",
    "import * as A from \"fp-ts/Array\";\n",
    "import * as O from \"fp-ts/Option\";\n",
    "import { Option } from \"fp-ts/Option\";\n",
    "\n",
    "import * as P from \"./lib/promise\";\n",
    "\n",
    "import * as E from \"fp-ts/Either\";\n",
    "import { Either } from \"fp-ts/Either\";\n"
   ]
  },
  {
   "attachments": {},
   "cell_type": "markdown",
   "metadata": {},
   "source": [
    "Let's write down the types of different `map` functions"
   ]
  },
  {
   "cell_type": "code",
   "execution_count": 51,
   "metadata": {},
   "outputs": [],
   "source": [
    "type mapArray = <A, B>(f: (a: A) => B) => (arr: Array<A>) => Array<B>;\n",
    "type mapOption = <A, B>(f: (a: A) => B) => (option: Option<A>) => Option<B>;\n",
    "type mapPromise = <A, B>(f: (a: A) => B) => (promise: Promise<A>) => Promise<B>;\n",
    "\n",
    "type mapEither = <A, B>(f: (a: A) => B) => <E>(either: Either<E, A>) => Either<E, B>;"
   ]
  },
  {
   "attachments": {},
   "cell_type": "markdown",
   "metadata": {},
   "source": [
    "What if we just want to type `map` independently of the data type we're operating on?\n",
    "\n",
    "We can try to add a type param like so:"
   ]
  },
  {
   "cell_type": "code",
   "execution_count": 52,
   "metadata": {},
   "outputs": [],
   "source": [
    "//@ts-expect-error\n",
    "type map = <A, B, T>(f: (a: A) => B) => (t: T<A>) => T<B>;"
   ]
  },
  {
   "attachments": {},
   "cell_type": "markdown",
   "metadata": {},
   "source": [
    "But this doesn't work, because type script does not allow type arguments to be generic\n",
    "This is what is called `Higher-Kinded types` (HKT), the ability to have type argument that are themselves generic\n",
    "   \n",
    "Let's assume that we could write the above.\n",
    "\n",
    "We could then define a type:\n"
   ]
  },
  {
   "cell_type": "code",
   "execution_count": 53,
   "metadata": {},
   "outputs": [],
   "source": [
    "//@ts-expect-error\n",
    "type Functor<F> = { map: <A, B>(f: (a: A) => B) => (t: F<A>) => F<B> };"
   ]
  },
  {
   "attachments": {},
   "cell_type": "markdown",
   "metadata": {},
   "source": [
    "we can then create specific instances of this type for each of the types above:"
   ]
  },
  {
   "cell_type": "code",
   "execution_count": 54,
   "metadata": {},
   "outputs": [],
   "source": [
    "//@ts-expect-error\n",
    "const functorArray: Functor<Array> = { map: A.map };\n",
    "//@ts-expect-error\n",
    "const functorOption: Functor<Option> = { map: O.map };\n",
    "//@ts-expect-error\n",
    "const functorPromise: Functor<Promise> = { map: P.map };"
   ]
  },
  {
   "attachments": {},
   "cell_type": "markdown",
   "metadata": {},
   "source": [
    "Now, to `map` arrays we could do:"
   ]
  },
  {
   "cell_type": "code",
   "execution_count": 55,
   "metadata": {},
   "outputs": [
    {
     "name": "stdout",
     "output_type": "stream",
     "text": [
      "[ '1', '2', '3' ]\n"
     ]
    }
   ],
   "source": [
    "const foo = functorArray.map<number, string>(e => JSON.stringify(e))([1, 2, 3]);\n",
    "\n",
    "foo"
   ]
  },
  {
   "attachments": {},
   "cell_type": "markdown",
   "metadata": {},
   "source": [
    "* Why is this powerful?\n",
    "\n",
    "because we could write code that doesn't care about the types it's operating on\n"
   ]
  },
  {
   "cell_type": "code",
   "execution_count": 56,
   "metadata": {},
   "outputs": [],
   "source": [
    "//@ts-expect-error\n",
    "const stringifyAndExclam: <F>(functor: Functor<F>) => <A>(fa: F<A>) => F<string> = functor => functor.map(e => JSON.stringify(e) + \"!\");"
   ]
  },
  {
   "attachments": {},
   "cell_type": "markdown",
   "metadata": {},
   "source": [
    "We create a `stringifyAndExclam` function that will work on *any* generic datatype, provided we supply an implementation of the functor interface for said datatype.   \n",
    "Which means we could do:"
   ]
  },
  {
   "cell_type": "code",
   "execution_count": 64,
   "metadata": {},
   "outputs": [],
   "source": [
    "const arrayOfStrings = stringifyAndExclam(functorArray)([1, 2]); \n",
    "\n",
    "const optionOfString = stringifyAndExclam(functorOption)(O.some(1)); \n",
    "const promiseOfStrings = stringifyAndExclam(functorPromise)(Promise.resolve(1)); "
   ]
  },
  {
   "cell_type": "code",
   "execution_count": 58,
   "metadata": {},
   "outputs": [
    {
     "name": "stdout",
     "output_type": "stream",
     "text": [
      "[ '1!', '2!' ]\n"
     ]
    }
   ],
   "source": [
    "arrayOfStrings"
   ]
  },
  {
   "cell_type": "code",
   "execution_count": 59,
   "metadata": {},
   "outputs": [
    {
     "name": "stdout",
     "output_type": "stream",
     "text": [
      "{ _tag: 'Some', value: '1!' }\n"
     ]
    }
   ],
   "source": [
    "optionOfString"
   ]
  },
  {
   "cell_type": "code",
   "execution_count": 60,
   "metadata": {},
   "outputs": [
    {
     "name": "stdout",
     "output_type": "stream",
     "text": [
      "1!\n"
     ]
    }
   ],
   "source": [
    "await promiseOfStrings"
   ]
  },
  {
   "attachments": {},
   "cell_type": "markdown",
   "metadata": {},
   "source": [
    "But what about `Either`? It takes 2 type arguments.\n",
    "In our `functor` type declaration, we have no indication of that, we can see it is slightly different from the `mapEither` type due to the missing `E` type\n",
    "\n",
    "Again, `TypeScript` doesn't support this, but languages that do support `HKT` typically allow partial application of type arguments.  \n",
    "That means we could attempt something like:"
   ]
  },
  {
   "cell_type": "code",
   "execution_count": 61,
   "metadata": {},
   "outputs": [
    {
     "name": "stderr",
     "output_type": "stream",
     "text": [
      "2:23 - Exported type alias 'Either1' has or is using private name 'E'.\n",
      "4:24 - Exported type alias 'Either2' has or is using private name 'A'.\n"
     ]
    }
   ],
   "source": [
    "//@ts-expect-error\n",
    "type Either1 = Either<E>;\n",
    "//@ts-expect-error\n",
    "type Either2 = Either1<A>;"
   ]
  },
  {
   "attachments": {},
   "cell_type": "markdown",
   "metadata": {},
   "source": [
    "And this would mean \n",
    "```\n",
    "Either2 = Either<E, A>\n",
    "```\n",
    "\n",
    "But TS doesn't allow it. And there are other problems too, as here it implies `E` and `A` are concrete types, but they should be type arguments. There's no way of specifying such constraints.\n",
    "\n",
    "For the sake of learning, let's go ahead and do our best using `unknown`"
   ]
  },
  {
   "cell_type": "code",
   "execution_count": null,
   "metadata": {},
   "outputs": [],
   "source": [
    "//@ts-expect-error\n",
    "const functorEither: Functor<Either<unknown>> = { map: E.map };"
   ]
  },
  {
   "attachments": {},
   "cell_type": "markdown",
   "metadata": {},
   "source": [
    "\n",
    "We specify that `E` is unknown, and this is actually fine, since for the `map` operation, we don't care about those types.\n",
    "\n",
    "We just want to follow the types defined above. With `unknown`, they would turn out as:"
   ]
  },
  {
   "cell_type": "code",
   "execution_count": null,
   "metadata": {},
   "outputs": [],
   "source": [
    "type mapEither = <A, B>(f: (a: A) => B) => (either: Either<unknown, A>) => Either<unknown, B>;"
   ]
  },
  {
   "attachments": {},
   "cell_type": "markdown",
   "metadata": {},
   "source": [
    "Of course, ignoring that this doesn't type check, if we were to use these types, we would lose the type information of `E`.\n",
    "\n",
    "But at least the code works, since we're basically merely ignoring the types and running Javascript underneath"
   ]
  },
  {
   "cell_type": "code",
   "execution_count": null,
   "metadata": {},
   "outputs": [],
   "source": [
    "const rightOfStrings = stringifyAndExclam(functorEither)(E.right(1)); \n",
    "const leftOfStrings = stringifyAndExclam(functorEither)(E.left(2)); \n"
   ]
  },
  {
   "cell_type": "code",
   "execution_count": 62,
   "metadata": {},
   "outputs": [
    {
     "name": "stdout",
     "output_type": "stream",
     "text": [
      "{ _tag: 'Right', right: '1!' }\n"
     ]
    }
   ],
   "source": [
    "rightOfStrings"
   ]
  },
  {
   "cell_type": "code",
   "execution_count": 63,
   "metadata": {},
   "outputs": [
    {
     "name": "stdout",
     "output_type": "stream",
     "text": [
      "{ _tag: 'Left', left: 2 }\n"
     ]
    }
   ],
   "source": [
    "leftOfStrings"
   ]
  }
 ],
 "metadata": {
  "kernelspec": {
   "display_name": "TypeScript",
   "language": "typescript",
   "name": "tslab"
  },
  "language_info": {
   "codemirror_mode": {
    "mode": "typescript",
    "name": "javascript",
    "typescript": true
   },
   "file_extension": ".ts",
   "mimetype": "text/typescript",
   "name": "typescript",
   "version": "3.7.2"
  },
  "orig_nbformat": 4
 },
 "nbformat": 4,
 "nbformat_minor": 2
}
